{
 "cells": [
  {
   "cell_type": "code",
   "execution_count": 1,
   "id": "3aa6cd92",
   "metadata": {},
   "outputs": [],
   "source": [
    "import secrets\n",
    "import requests\n",
    "import numpy\n",
    "import pandas\n",
    "import os\n",
    "import re\n",
    "import json\n",
    "from tqdm import tqdm"
   ]
  },
  {
   "cell_type": "code",
   "execution_count": 2,
   "id": "7b8a8c22",
   "metadata": {},
   "outputs": [],
   "source": [
    "from bs4 import BeautifulSoup"
   ]
  },
  {
   "cell_type": "code",
   "execution_count": 3,
   "id": "5a8314c6",
   "metadata": {},
   "outputs": [],
   "source": [
    "from selenium import webdriver\n",
    "from selenium.webdriver.common.keys import Keys\n",
    "from selenium.webdriver.common.by import By\n",
    "from selenium.webdriver.firefox.service import Service"
   ]
  },
  {
   "cell_type": "code",
   "execution_count": 4,
   "id": "84320892",
   "metadata": {},
   "outputs": [],
   "source": [
    "browser = webdriver.Firefox(service=Service(\"../resources/geckodriver-v0.31.0-win64/geckodriver.exe\"))"
   ]
  },
  {
   "cell_type": "code",
   "execution_count": 5,
   "id": "9204f435",
   "metadata": {},
   "outputs": [],
   "source": [
    "browser.get('https://data.gov.in/apis')\n",
    "soup = BeautifulSoup(browser.page_source,\"html.parser\")"
   ]
  },
  {
   "cell_type": "code",
   "execution_count": 5,
   "id": "f5eb5742",
   "metadata": {},
   "outputs": [],
   "source": [
    "# # find all wih help of regex\n",
    "# d = {}\n",
    "# for i in soup.find_all('a', {'href': re.compile(r'^/apis/')}):\n",
    "#     d.update({i.text:i['href']})\n",
    "# with open('../resources/all_apis.json','w') as f:\n",
    "#     json.dump(d,f)"
   ]
  },
  {
   "cell_type": "code",
   "execution_count": 8,
   "id": "8d2017e6",
   "metadata": {},
   "outputs": [
    {
     "name": "stderr",
     "output_type": "stream",
     "text": [
      "100%|██████████████████████████████████████████████████████████████████████████████████████████████████████| 3635/3635 [3:21:46<00:00,  3.33s/it]\n"
     ]
    }
   ],
   "source": [
    "for i in tqdm(range(12564,16199)):\n",
    "    browser.get(f'https://data.gov.in/apis?page={i}')\n",
    "    soup = BeautifulSoup(browser.page_source,\"html.parser\")\n",
    "    d = {}\n",
    "    for i in soup.find_all('a', {'href': re.compile(r'^/apis/')}):\n",
    "        d.update({i.text:i['href']})\n",
    "    with open('../resources/all_apis.json','a') as f:\n",
    "        json.dump(d,f)"
   ]
  }
 ],
 "metadata": {
  "kernelspec": {
   "display_name": "Python 3",
   "language": "python",
   "name": "python3"
  },
  "language_info": {
   "codemirror_mode": {
    "name": "ipython",
    "version": 3
   },
   "file_extension": ".py",
   "mimetype": "text/x-python",
   "name": "python",
   "nbconvert_exporter": "python",
   "pygments_lexer": "ipython3",
   "version": "3.9.5"
  }
 },
 "nbformat": 4,
 "nbformat_minor": 5
}
