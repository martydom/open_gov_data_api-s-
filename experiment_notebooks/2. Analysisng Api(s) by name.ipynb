{
 "cells": [
  {
   "cell_type": "code",
   "execution_count": 2,
   "id": "1d6f2003",
   "metadata": {},
   "outputs": [],
   "source": [
    "import secrets\n",
    "import json\n",
    "import numpy as np\n",
    "import pandas as pd\n",
    "import nltk\n",
    "import requests"
   ]
  },
  {
   "cell_type": "code",
   "execution_count": 3,
   "id": "9b4f1d5c",
   "metadata": {},
   "outputs": [],
   "source": [
    "with open(\"../resources/all_apis_1.json\", 'r') as f:\n",
    "    apis = json.load(f)"
   ]
  },
  {
   "cell_type": "code",
   "execution_count": 4,
   "id": "5ef75b11",
   "metadata": {},
   "outputs": [],
   "source": [
    "df = pd.DataFrame(apis.items(),columns=['name','source']).drop_duplicates()"
   ]
  },
  {
   "cell_type": "code",
   "execution_count": 54,
   "id": "def8d955",
   "metadata": {},
   "outputs": [],
   "source": [
    "def fetch_details(rc,limit = 100,offset = 0,fmt='json'):\n",
    "    url = f\"https://api.data.gov.in/resource/{rc}?api-key={secrets.api_key}&format={fmt}&offset={offset}&limit={limit}\" #\n",
    "    rs = requests.get(url)\n",
    "    return rs.json()"
   ]
  },
  {
   "cell_type": "code",
   "execution_count": 57,
   "id": "0be3ac53",
   "metadata": {},
   "outputs": [],
   "source": [
    "r = fetch_details(df['source'][1111].split('/')[-1])"
   ]
  },
  {
   "cell_type": "code",
   "execution_count": 5,
   "id": "b7a598d3",
   "metadata": {},
   "outputs": [
    {
     "data": {
      "text/html": [
       "<div>\n",
       "<style scoped>\n",
       "    .dataframe tbody tr th:only-of-type {\n",
       "        vertical-align: middle;\n",
       "    }\n",
       "\n",
       "    .dataframe tbody tr th {\n",
       "        vertical-align: top;\n",
       "    }\n",
       "\n",
       "    .dataframe thead th {\n",
       "        text-align: right;\n",
       "    }\n",
       "</style>\n",
       "<table border=\"1\" class=\"dataframe\">\n",
       "  <thead>\n",
       "    <tr style=\"text-align: right;\">\n",
       "      <th></th>\n",
       "      <th>name</th>\n",
       "      <th>source</th>\n",
       "    </tr>\n",
       "  </thead>\n",
       "  <tbody>\n",
       "    <tr>\n",
       "      <th>0</th>\n",
       "      <td>Hotel Guest by Category of Hotels, 2019-2020</td>\n",
       "      <td>/apis/8a4245c3-1e26-4988-90a4-2e40d735f0be</td>\n",
       "    </tr>\n",
       "    <tr>\n",
       "      <th>1</th>\n",
       "      <td>Details of Financial assistance to sugar mills...</td>\n",
       "      <td>/apis/fcfb05ab-16f6-424a-92b6-d9dc50215d14</td>\n",
       "    </tr>\n",
       "    <tr>\n",
       "      <th>2</th>\n",
       "      <td>State/UT-wise Domestic and Foreign Tourist Vis...</td>\n",
       "      <td>/apis/47892710-d5ef-4881-8eb8-4265f25fa2fe</td>\n",
       "    </tr>\n",
       "    <tr>\n",
       "      <th>3</th>\n",
       "      <td>State/UT wise quota of sugar for PDS as per ex...</td>\n",
       "      <td>/apis/b7f21a24-0cb4-4f66-a84b-bd261f063504</td>\n",
       "    </tr>\n",
       "    <tr>\n",
       "      <th>4</th>\n",
       "      <td>District wise Apprentices engaged under Nation...</td>\n",
       "      <td>/apis/645b9f3e-e082-47d4-8098-e1c2b1a9e7f0</td>\n",
       "    </tr>\n",
       "  </tbody>\n",
       "</table>\n",
       "</div>"
      ],
      "text/plain": [
       "                                                name  \\\n",
       "0       Hotel Guest by Category of Hotels, 2019-2020   \n",
       "1  Details of Financial assistance to sugar mills...   \n",
       "2  State/UT-wise Domestic and Foreign Tourist Vis...   \n",
       "3  State/UT wise quota of sugar for PDS as per ex...   \n",
       "4  District wise Apprentices engaged under Nation...   \n",
       "\n",
       "                                       source  \n",
       "0  /apis/8a4245c3-1e26-4988-90a4-2e40d735f0be  \n",
       "1  /apis/fcfb05ab-16f6-424a-92b6-d9dc50215d14  \n",
       "2  /apis/47892710-d5ef-4881-8eb8-4265f25fa2fe  \n",
       "3  /apis/b7f21a24-0cb4-4f66-a84b-bd261f063504  \n",
       "4  /apis/645b9f3e-e082-47d4-8098-e1c2b1a9e7f0  "
      ]
     },
     "execution_count": 5,
     "metadata": {},
     "output_type": "execute_result"
    }
   ],
   "source": [
    "df.head()"
   ]
  }
 ],
 "metadata": {
  "kernelspec": {
   "display_name": "Python 3",
   "language": "python",
   "name": "python3"
  },
  "language_info": {
   "codemirror_mode": {
    "name": "ipython",
    "version": 3
   },
   "file_extension": ".py",
   "mimetype": "text/x-python",
   "name": "python",
   "nbconvert_exporter": "python",
   "pygments_lexer": "ipython3",
   "version": "3.9.5"
  }
 },
 "nbformat": 4,
 "nbformat_minor": 5
}
